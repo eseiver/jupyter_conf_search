{
 "cells": [
  {
   "cell_type": "code",
   "execution_count": null,
   "metadata": {},
   "outputs": [],
   "source": [
    "import jupyter_core.paths as jpaths\n",
    "import glob\n",
    "import os"
   ]
  },
  {
   "cell_type": "code",
   "execution_count": null,
   "metadata": {},
   "outputs": [],
   "source": [
    "def valid_conf_file(file_name):\n",
    "# replace with canonical config validation checker\n",
    "    if not os.path.isfile(file_name):\n",
    "        return False\n",
    "    if os.path.splitext(file_name)[1]=='.py':\n",
    "        return True\n",
    "    if os.path.splitext(file_name)[1]=='.json':\n",
    "        return True\n",
    "    \n",
    "def valid_local_conf_file(file_path, canonical_names=None):\n",
    "    if canonical_names is None:\n",
    "        canonical_names = [\"jupyter_config\",\n",
    "                           \"jupyter_notebook_config\",\n",
    "                           \"jupyter_nbconvert_config\"]\n",
    "\n",
    "    file_name = os.path.splitext(os.path.split(file_path)[1])[0]\n",
    "    return valid_conf_file(file_path) and file_name in canonical_names\n",
    "    \n",
    "def search_jupyter_paths(search_term=''):\n",
    "    \n",
    "    conf_path_list = []\n",
    "    for dir in jpaths.jupyter_config_path():\n",
    "        conf_path_list.extend(glob.glob(dir+\"/**\", recursive=True))\n",
    "        \n",
    "    conf_file_list = [f for f in conf_path_list if valid_conf_file(f)]\n",
    "    local_path_list = glob.glob(os.getcwd()+\"/**\", recursive=True)\n",
    "    \n",
    "    conf_file_list.extend([f for f in local_path_list if valid_local_conf_file(f)])\n",
    "    \n",
    "    # go through files, \n",
    "    # if search term found in file\n",
    "    # print name, line_no, content \n",
    "    conf_file_list.reverse()\n",
    "    for file in conf_file_list:\n",
    "        print_indexed_content(file=file, search_term=search_term)\n",
    "        \n",
    "        \n",
    "def print_indexed_content(file='', search_term=''):\n",
    "    with open(file,\"r\") as f:\n",
    "        if search_term in f.read():\n",
    "            f.seek(0)\n",
    "            line_numbers_match = []\n",
    "            for line_no, text in enumerate(f,1):\n",
    "                if search_term in text:\n",
    "                    line_numbers_match.append((line_no,text.strip()))\n",
    "            output = [\"{}: {}\".format(x,y) for x,y in line_numbers_match]\n",
    "            print(file + \"\\n\" + \"\\n\".join(output),\"\\n\")\n"
   ]
  },
  {
   "cell_type": "code",
   "execution_count": null,
   "metadata": {},
   "outputs": [],
   "source": [
    "%timeit search_jupyter_paths(\"_\")"
   ]
  },
  {
   "cell_type": "code",
   "execution_count": null,
   "metadata": {
    "collapsed": true
   },
   "outputs": [],
   "source": []
  }
 ],
 "metadata": {
  "kernelspec": {
   "display_name": "Python 3",
   "language": "python",
   "name": "python3"
  },
  "language_info": {
   "codemirror_mode": {
    "name": "ipython",
    "version": 3
   },
   "file_extension": ".py",
   "mimetype": "text/x-python",
   "name": "python",
   "nbconvert_exporter": "python",
   "pygments_lexer": "ipython3",
   "version": "3.5.2"
  }
 },
 "nbformat": 4,
 "nbformat_minor": 2
}
